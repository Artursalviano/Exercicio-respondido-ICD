{
 "cells": [
  {
   "cell_type": "markdown",
   "metadata": {},
   "source": [
    "# Introdução à Ciência de Dados - UFPB\n",
    "Professor: Yuri Malheiros\n",
    "\n",
    "## NumPy"
   ]
  },
  {
   "cell_type": "markdown",
   "metadata": {},
   "source": [
    "Implemente a função `distance` abaixo. Ela deve receber dois pontos e retornar a distância euclidiana entre eles. Cada ponto é representado por um array do NumPy, por exemplo, `p1 = np.array([2,4])` representa o ponto com coordenadas x=2 e y=2."
   ]
  },
  {
   "cell_type": "markdown",
   "metadata": {},
   "source": [
    "### Artur Iury\n",
    "\n",
    "**matricula:** 20170043750"
   ]
  },
  {
   "cell_type": "code",
   "execution_count": 140,
   "metadata": {},
   "outputs": [],
   "source": [
    "import numpy as np\n",
    "import math \n",
    "\n",
    "p1 = np.array([0,0])\n",
    "p2 = np.array([1,1])\n",
    "\n",
    "def distance(p1, p2):\n",
    "    \"\"\"\n",
    "    >>> distance(np.array([0,0]), np.array([1,1]))\n",
    "    1.4142135623730951\n",
    "    \n",
    "    >>> distance(np.array([1,2]), np.array([3,4]))\n",
    "    2.8284271247461903\n",
    "    \n",
    "    >>> distance(np.array([5,2]), np.array([-2,-1]))\n",
    "    7.615773105863909\n",
    "    \"\"\"\n",
    "\n",
    "    # ADICIONE O SEU CÓDIGO AQUI\n",
    "\n",
    "    h=[]\n",
    "    for i in range(len(p1)):\n",
    "        p= p2-p1\n",
    "        h.append( math.pow(p[i],2))\n",
    "        a = np.array(h)\n",
    "    \n",
    "        distancia = math.sqrt(np.sum(a))\n",
    "    return distancia"
   ]
  },
  {
   "cell_type": "code",
   "execution_count": 141,
   "metadata": {},
   "outputs": [
    {
     "data": {
      "text/plain": [
       "1.4142135623730951"
      ]
     },
     "execution_count": 141,
     "metadata": {},
     "output_type": "execute_result"
    }
   ],
   "source": [
    "distance(p1,p2)"
   ]
  },
  {
   "cell_type": "markdown",
   "metadata": {},
   "source": [
    "Implemente a função `n_distances` abaixo. Ela recebe um ponto (`p1`), como um array do NumPy, e uma lista de pontos (`points`), uma matriz do NumPy, onde cada linha representa um ponto.\n",
    "\n",
    "Esta função deve retornar a distância de `p1` para todos os pontos da matriz `points`. O retorno também é uma matriz, onde cada linha tem a distância de `p1` para o ponto daquela linha."
   ]
  },
  {
   "cell_type": "code",
   "execution_count": 142,
   "metadata": {},
   "outputs": [],
   "source": [
    "p1 = np.array([1,2])\n",
    "p2 = np.array([1,1])\n",
    "points = np.array([[3,-1], [2,1], [5, 2], [10, 1], [-2, -5]])\n",
    "def n_distances(p1, points):\n",
    "    \"\"\"\n",
    "    >>> n_distances(np.array([0,0]), np.array([[1,1]]))\n",
    "    array([1.41421356])\n",
    "    \n",
    "    >>> n_distances(np.array([0,0]), np.array([[1,1], [2,2]]))\n",
    "    array([1.41421356, 2.82842712])\n",
    "    \n",
    "    >>> n_distances(np.array([1,2]), np.array([[3,-1], [2,1], [5, 2], [10, 1], [-2, -5]]))\n",
    "    array([3.60555128, 1.41421356, 4.        , 9.05538514, 7.61577311])\n",
    "    \"\"\"\n",
    "    \n",
    "    # ADICIONE O SEU CÓDIGO AQUI\n",
    "    p = points[0:] - p1\n",
    "    x = points[0:] - p1\n",
    "    h = p*x\n",
    "    a = np.sum(h,axis = 1 )\n",
    "\n",
    "    y = []\n",
    "    for i in range(len(a)):\n",
    "        y.append(math.sqrt(a[i]))\n",
    "    n_dist = np.array(y)\n",
    "    return n_dist"
   ]
  },
  {
   "cell_type": "code",
   "execution_count": 143,
   "metadata": {},
   "outputs": [
    {
     "data": {
      "text/plain": [
       "array([3.60555128, 1.41421356, 4.        , 9.05538514, 7.61577311])"
      ]
     },
     "execution_count": 143,
     "metadata": {},
     "output_type": "execute_result"
    }
   ],
   "source": [
    "n_distances(p1, points)"
   ]
  },
  {
   "cell_type": "markdown",
   "metadata": {},
   "source": [
    "## Teste"
   ]
  },
  {
   "cell_type": "code",
   "execution_count": 139,
   "metadata": {},
   "outputs": [
    {
     "name": "stdout",
     "output_type": "stream",
     "text": [
      "Trying:\n",
      "    distance(np.array([0,0]), np.array([1,1]))\n",
      "Expecting:\n",
      "    1.4142135623730951\n",
      "ok\n",
      "Trying:\n",
      "    distance(np.array([1,2]), np.array([3,4]))\n",
      "Expecting:\n",
      "    2.8284271247461903\n",
      "ok\n",
      "Trying:\n",
      "    distance(np.array([5,2]), np.array([-2,-1]))\n",
      "Expecting:\n",
      "    7.615773105863909\n",
      "ok\n",
      "Trying:\n",
      "    n_distances(np.array([0,0]), np.array([[1,1]]))\n",
      "Expecting:\n",
      "    array([1.41421356])\n",
      "ok\n",
      "Trying:\n",
      "    n_distances(np.array([0,0]), np.array([[1,1], [2,2]]))\n",
      "Expecting:\n",
      "    array([1.41421356, 2.82842712])\n",
      "ok\n",
      "Trying:\n",
      "    n_distances(np.array([1,2]), np.array([[3,-1], [2,1], [5, 2], [10, 1], [-2, -5]]))\n",
      "Expecting:\n",
      "    array([3.60555128, 1.41421356, 4.        , 9.05538514, 7.61577311])\n",
      "ok\n",
      "1 items had no tests:\n",
      "    __main__\n",
      "2 items passed all tests:\n",
      "   3 tests in __main__.distance\n",
      "   3 tests in __main__.n_distances\n",
      "6 tests in 3 items.\n",
      "6 passed and 0 failed.\n",
      "Test passed.\n"
     ]
    },
    {
     "data": {
      "text/plain": [
       "TestResults(failed=0, attempted=6)"
      ]
     },
     "execution_count": 139,
     "metadata": {},
     "output_type": "execute_result"
    }
   ],
   "source": [
    "import doctest\n",
    "\n",
    "doctest.testmod(verbose=True)"
   ]
  },
  {
   "cell_type": "code",
   "execution_count": null,
   "metadata": {},
   "outputs": [],
   "source": []
  }
 ],
 "metadata": {
  "kernelspec": {
   "display_name": "Python 3",
   "language": "python",
   "name": "python3"
  },
  "language_info": {
   "codemirror_mode": {
    "name": "ipython",
    "version": 3
   },
   "file_extension": ".py",
   "mimetype": "text/x-python",
   "name": "python",
   "nbconvert_exporter": "python",
   "pygments_lexer": "ipython3",
   "version": "3.8.5"
  }
 },
 "nbformat": 4,
 "nbformat_minor": 4
}
